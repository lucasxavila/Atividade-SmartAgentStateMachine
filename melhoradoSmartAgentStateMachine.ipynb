{
  "nbformat": 4,
  "nbformat_minor": 0,
  "metadata": {
    "colab": {
      "provenance": [],
      "authorship_tag": "ABX9TyMmxqRdq7rQCldOJWQGChFE",
      "include_colab_link": true
    },
    "kernelspec": {
      "name": "python3",
      "display_name": "Python 3"
    },
    "language_info": {
      "name": "python"
    }
  },
  "cells": [
    {
      "cell_type": "markdown",
      "metadata": {
        "id": "view-in-github",
        "colab_type": "text"
      },
      "source": [
        "<a href=\"https://colab.research.google.com/github/lucasxavila/Atividade-SmartAgentStateMachine/blob/main/melhoradoSmartAgentStateMachine.ipynb\" target=\"_parent\"><img src=\"https://colab.research.google.com/assets/colab-badge.svg\" alt=\"Open In Colab\"/></a>"
      ]
    },
    {
      "cell_type": "code",
      "execution_count": null,
      "metadata": {
        "id": "e6q0CvzXe8_5"
      },
      "outputs": [],
      "source": [
        "!pip install matplotlib\n",
        "!pip install mplcursors\n",
        "\n",
        "from IPython.display import clear_output\n",
        "import random\n",
        "import matplotlib.pyplot as plt\n",
        "\n",
        "clear_output()\n",
        "\n",
        "def plot_attempts_interactive(agent):\n",
        "  plt.figure(figsize=(8,5))\n",
        "  plt.plot(range(1, len(agent.history) + 1), agent.history, marker='o', linestyle='-')\n",
        "  plt.axhline(y=agent.secret_number, color='r', linestyle='--', label=\"Número Secreto\")\n",
        "  plt.xlabel(\"Tentativas\")\n",
        "  plt.ylabel(\"Valor do Palpite\")\n",
        "  plt.title(f\"Evolução das Tentativas do Jogador (Dificuldade: {difficulty})\")\n",
        "  plt.legend(\"\")\n",
        "  plt.show()\n",
        "\n",
        "while True:\n",
        "  print(f\"1: Fácil\\n2: Médio\\n3: Difícil\")\n",
        "  difficulty = int(input(\"Escolha a dificuldade desejada: \"))\n",
        "\n",
        "  if difficulty == 1 or difficulty == 2 or difficulty == 3:\n",
        "    break\n",
        "  else:\n",
        "    clear_output()\n",
        "    print(\"Alternativa inválida! Tente novamente.\")\n",
        "\n",
        "class GameAgent:\n",
        "  def __init__(self, secret_number, difficulty):\n",
        "    self.secret_number = secret_number\n",
        "\n",
        "    if difficulty == 1:\n",
        "      self.max_attempts = 7\n",
        "    elif difficulty == 2:\n",
        "      self.max_attempts = 5\n",
        "    else:\n",
        "      self.max_attempts = 3\n",
        "\n",
        "    self.attempts = 0\n",
        "    self.state = \"Esperando tentativa\"\n",
        "    self.history = [] # Histórico de tentativas\n",
        "\n",
        "  def make_guess(self, guess):\n",
        "    self.attempts += 1\n",
        "    self.history.append(guess)\n",
        "\n",
        "    if guess == self.secret_number:\n",
        "      self.state = \"Acertou!\"\n",
        "      return f\"\\nParabéns! Você acertou o número.\\n\\nTentativas realizadas: {agent.attempts}\\n\\nO número secreto era: {self.secret_number}\\n\"\n",
        "    elif self.attempts >= self.max_attempts:\n",
        "      self.state = \"Fim do jogo\"\n",
        "      return f\"\\nGame over! O número era {self.secret_number}.\"\n",
        "    elif guess < self.secret_number:\n",
        "      self.state = \"Tentativa errada (muito baixo)\"\n",
        "      return \"O número é maior. Tente novamente.\"\n",
        "    else:\n",
        "      self.state = \"Tentativa errada (muito alto)\"\n",
        "      return \"O número é menor. Tente novamente.\"\n",
        "\n",
        "# Criando um agente com um número secreto entre\n",
        "agent = GameAgent(secret_number=random.randint(1, 100), difficulty=difficulty)\n",
        "\n",
        "clear_output()\n",
        "\n",
        "while agent.state not in [\"Acertou!\", \"Fim do jogo\"]:\n",
        "  print(f\"\\nTentativas restantes: {agent.max_attempts - agent.attempts}\")\n",
        "  while True:\n",
        "    try:\n",
        "      guess = int(input(\"Digite um número: \"))\n",
        "\n",
        "      if 1 <= guess <= 100:\n",
        "        break\n",
        "      else:\n",
        "        print(\"Número inválido! Insira um número entre 1 e 100.\")\n",
        "\n",
        "    except ValueError:\n",
        "      print(\"Insira um número válido.\")\n",
        "  print(agent.make_guess(guess))\n",
        "\n",
        "print(f\"Histórico de tentativas: {agent.history}\")\n",
        "plot_attempts_interactive(agent)"
      ]
    }
  ]
}